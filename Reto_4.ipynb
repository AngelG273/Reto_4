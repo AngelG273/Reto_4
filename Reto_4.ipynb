{
 "cells": [
  {
   "cell_type": "code",
   "execution_count": 3,
   "metadata": {},
   "outputs": [
    {
     "name": "stdout",
     "output_type": "stream",
     "text": [
      "El numero 101 es una vocal minuscula en codigo ASCII.\n"
     ]
    }
   ],
   "source": [
    "numero : int\n",
    "numero = int(input(\"Ingrese un numero entero: \"))\n",
    "if numero == 97:\n",
    "    print(\"El numero \" + str(numero) + \" es una vocal minuscula en codigo ASCII.\")\n",
    "elif numero == 101:\n",
    "     print(\"El numero \" + str(numero) + \" es una vocal minuscula en codigo ASCII.\")\n",
    "elif numero == 105:\n",
    "     print(\"El numero \" + str(numero) + \" es una vocal minuscula en codigo ASCII.\")\n",
    "elif numero == 111:\n",
    "     print(\"El numero \" + str(numero) + \" es una vocal minuscula en codigo ASCII.\")\n",
    "elif numero == 117:\n",
    "     print(\"El numero \" + str(numero) + \" es una vocal minuscula en codigo ASCII.\")\n",
    "else:\n",
    "     print(\"El numero \" + str(numero) + \" no es una vocal minuscula en codigo ASCII.\")"
   ]
  },
  {
   "cell_type": "code",
   "execution_count": 5,
   "metadata": {},
   "outputs": [
    {
     "name": "stdout",
     "output_type": "stream",
     "text": [
      "El codigo ASCII de L es 76 el cual es un numero par\n"
     ]
    }
   ],
   "source": [
    "Caracter = input(\"Ingrese un caracter: \")\n",
    "\n",
    "if ord(Caracter) % 2 == 0:\n",
    "    print(\"El codigo ASCII de \"+ str(Caracter) + \" es \" + str(ord(Caracter)) + \" el cual es un numero par\") \n",
    "else:\n",
    "    print(\"El codigo ASCII de \"+ str(Caracter) + \" es \" + str(ord(Caracter)) + \" el cual es un numero impar\")"
   ]
  },
  {
   "cell_type": "code",
   "execution_count": 6,
   "metadata": {},
   "outputs": [
    {
     "name": "stdout",
     "output_type": "stream",
     "text": [
      "Es un digito\n"
     ]
    }
   ],
   "source": [
    "Caracter = input(\"Ingrese un caracter: \")\n",
    "\n",
    "match Caracter:\n",
    "     case \"0\":\n",
    "          print(\"Es un digito\")\n",
    "     case \"1\":\n",
    "          print(\"Es un digito\")\n",
    "     case \"2\":\n",
    "          print(\"Es un digito\")\n",
    "     case \"3\":\n",
    "          print(\"Es un digito\")\n",
    "     case \"4\":\n",
    "          print(\"Es un digito\")\n",
    "     case \"5\":\n",
    "          print(\"Es un digito\")\n",
    "     case \"6\":\n",
    "          print(\"Es un digito\")\n",
    "     case \"7\":\n",
    "          print(\"Es un digito\")\n",
    "     case \"8 \":\n",
    "          print(\"Es un digito\")\n",
    "     case \"9\":\n",
    "          print(\"Es un digito\")\n",
    "     case _:\n",
    "          print(\"No es un digito\")"
   ]
  },
  {
   "cell_type": "code",
   "execution_count": 10,
   "metadata": {},
   "outputs": [
    {
     "name": "stdout",
     "output_type": "stream",
     "text": [
      "El numero 3.0 es multiplo de 6.0\n"
     ]
    }
   ],
   "source": [
    "a = float(input(\"Ingrese un numero: \"))\n",
    "b = float(input(\"Ingrese un numero: \"))\n",
    "\n",
    "if a % b == 0 or b % a == 0:\n",
    "    print(\"El numero \" + str(b) + \" es multiplo de \" + str(a))\n",
    "else:\n",
    "    print(\"El numero \"+ str(b) + \" no es multiplo de \" + str(a))"
   ]
  },
  {
   "cell_type": "code",
   "execution_count": 13,
   "metadata": {},
   "outputs": [
    {
     "name": "stdout",
     "output_type": "stream",
     "text": [
      "El numero 9.0 es positivo\n"
     ]
    }
   ],
   "source": [
    "x = float(input(\"Introduce un numero: \"))\n",
    "\n",
    "if x > 0:\n",
    "  print(\"El numero \" + str(x) + \" es positivo\")\n",
    "elif x < 0:\n",
    "  print(\"El numero \" + str(x) + \" es negativo\")\n",
    "else:\n",
    "  print(\"El numero\" + str(x) + \" es el neutro para la suma\")"
   ]
  },
  {
   "cell_type": "code",
   "execution_count": 16,
   "metadata": {},
   "outputs": [
    {
     "name": "stdout",
     "output_type": "stream",
     "text": [
      "Se puede formar un triangulo\n"
     ]
    }
   ],
   "source": [
    "lado_a = float(input(\"Ingrese la longitud del primer lado: \"))\n",
    "lado_b = float(input(\"Ingrese la longitud del segundo lado: \"))\n",
    "lado_c = float(input(\"Ingrese la longitud del tercer lado: \"))\n",
    "\n",
    "if lado_a + lado_b > lado_c and lado_a + lado_c > lado_b and lado_b + lado_b > lado_a:\n",
    "    print(\"Se puede formar un triangulo\")\n",
    "else:\n",
    "    print(\"No se puede formar un triangulo\")\n"
   ]
  },
  {
   "cell_type": "code",
   "execution_count": 15,
   "metadata": {},
   "outputs": [
    {
     "name": "stdout",
     "output_type": "stream",
     "text": [
      "Bogotá\n"
     ]
    }
   ],
   "source": [
    "pais = input(\"Ingrese un pais: \")\n",
    "\n",
    "match pais:\n",
    "    case \"argentina\":\n",
    "      print(\"Buenos Aires\")\n",
    "    case \"bolivia\":\n",
    "      print(\"Sucre\") \n",
    "    case \"brasil\":\n",
    "      print(\"Brasilia\")\n",
    "    case \"canada\":\n",
    "      print(\"Ottawa\")\n",
    "    case \"chile\":\n",
    "      print(\"Santiago\")\n",
    "    case \"colombia\":\n",
    "      print(\"Bogotá\")\n",
    "    case \"costa rica\":\n",
    "      print(\"San José\")\n",
    "    case \"cuba\":\n",
    "      print(\"Habana\")\n",
    "    case \"ecuador\":\n",
    "      print(\"Quito\")\n",
    "    case \"el salvador\":\n",
    "      print(\"San Salvador\")\n",
    "    case \"estados unidos\":\n",
    "      print(\"Washington D.C.\")\n",
    "    case \"guatemala\":\n",
    "      print(\"Ciudad de Guatemala\")\n",
    "    case \"honduras\":\n",
    "      print(\"Tegucigalpa\")\n",
    "    case \"mexico\":\n",
    "      print(\"Ciudad de México\")\n",
    "    case \"nicaragua\":\n",
    "      print(\"Managua\")\n",
    "    case \"panama\":\n",
    "      print(\"Ciudad de Panamá\")\n",
    "    case \"paraguay\":\n",
    "      print(\"Asunción\")\n",
    "    case \"peru\":\n",
    "      print(\"Lima\")\n",
    "    case \"republica dominicana\":\n",
    "      print(\"Santo Domingo\")\n",
    "    case \"uruguay\":\n",
    "      print(\"Montevideo\")\n",
    "    case \"venezuela\":\n",
    "      print(\"Caracas\")\n",
    "    case _:\n",
    "      print(\"País no identificado\")"
   ]
  }
 ],
 "metadata": {
  "kernelspec": {
   "display_name": "Python 3",
   "language": "python",
   "name": "python3"
  },
  "language_info": {
   "codemirror_mode": {
    "name": "ipython",
    "version": 3
   },
   "file_extension": ".py",
   "mimetype": "text/x-python",
   "name": "python",
   "nbconvert_exporter": "python",
   "pygments_lexer": "ipython3",
   "version": "3.13.1"
  }
 },
 "nbformat": 4,
 "nbformat_minor": 2
}
